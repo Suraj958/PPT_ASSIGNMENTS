{
 "cells": [
  {
   "cell_type": "markdown",
   "id": "42bf5b0b-861a-4795-a81d-041b2497c8dc",
   "metadata": {},
   "source": [
    "Q1\n",
    "Given two strings s and t, determine if they are isomorphic.\n",
    "\n",
    "Two strings s and t are isomorphic if the characters in s can be replaced to get t.\n",
    "\n",
    "All occurrences of a character must be replaced with another character while preserving the order of characters. No two characters may map to the same character, but a character may map to itself.\n",
    "\n",
    "Example 1:\n",
    "\n",
    "Input: s = \"egg\", t = \"add\"\n",
    "\n",
    "Output: true\n",
    "\n",
    "Algo\n",
    "Create two dictionaries, s_to_t and t_to_s, to store the mapping of characters from string s to string t and vice versa.\n",
    "\n",
    "Iterate through each character s_char and t_char in strings s and t simultaneously.\n",
    "\n",
    "a. If s_char is already present in s_to_t and the corresponding value is not equal to t_char, return False, as it violates the mapping rule.\n",
    "\n",
    "b. If t_char is already present in t_to_s and the corresponding value is not equal to s_char, return False, as it violates the mapping rule.\n",
    "\n",
    "c. If s_char is not present in s_to_t and t_char is not present in t_to_s, add the mappings s_char -> t_char in s_to_t and t_char -> s_char in t_to_s.\n",
    "\n",
    "If the iteration completes without returning False, return True, as the strings s and t are isomorphic."
   ]
  },
  {
   "cell_type": "code",
   "execution_count": 1,
   "id": "2d66f44c-7b58-454d-b627-c6e81111906d",
   "metadata": {},
   "outputs": [],
   "source": [
    "def isomorphic_strings(s, t):\n",
    "    if len(s) != len(t):\n",
    "        return False\n",
    "    \n",
    "    s_to_t = {}\n",
    "    t_to_s = {}\n",
    "    \n",
    "    for s_char, t_char in zip(s, t):\n",
    "        if s_char in s_to_t and s_to_t[s_char] != t_char:\n",
    "            return False\n",
    "        \n",
    "        if t_char in t_to_s and t_to_s[t_char] != s_char:\n",
    "            return False\n",
    "        \n",
    "        s_to_t[s_char] = t_char\n",
    "        t_to_s[t_char] = s_char\n",
    "    \n",
    "    return True"
   ]
  },
  {
   "cell_type": "code",
   "execution_count": 2,
   "id": "5508f124-668e-41b2-8481-52463c876eed",
   "metadata": {},
   "outputs": [
    {
     "name": "stdout",
     "output_type": "stream",
     "text": [
      "True\n"
     ]
    }
   ],
   "source": [
    "s = \"egg\" \n",
    "t = \"add\"\n",
    "print(isomorphic_strings(s, t)) "
   ]
  },
  {
   "cell_type": "markdown",
   "id": "30794215-5a6c-4b14-9b70-a5aba14874f7",
   "metadata": {},
   "source": [
    "Q2\n",
    "Given a string num which represents an integer, return true if num is a strobogrammatic number**.\n",
    "\n",
    "A strobogrammatic number is a number that looks the same when rotated 180 degrees (looked at upside down).\n",
    "\n",
    "Example 1:\n",
    "\n",
    "Input: num = \"69\"\n",
    "\n",
    "Output:\n",
    "\n",
    "true\n",
    "\n",
    "Algo\n",
    "Initialize two pointers, left and right, to the start and end of the string num, respectively.\n",
    "\n",
    "While left is less than or equal to right, perform the following checks:\n",
    "\n",
    "a. If the characters at positions left and right are not a valid strobogrammatic pair (i.e., they are not among the pairs: (\"0\", \"0\"), (\"1\", \"1\"), (\"6\", \"9\"), (\"8\", \"8\"), (\"9\", \"6\")), return False.\n",
    "\n",
    "b. Increment left and decrement right to move towards the center of the string.\n",
    "\n",
    "If the iteration completes without returning False, return True, as the string num is a strobogrammatic number."
   ]
  },
  {
   "cell_type": "code",
   "execution_count": 3,
   "id": "1dc76265-dcbd-4ecc-9ace-fafaa7b5fa75",
   "metadata": {},
   "outputs": [],
   "source": [
    "def is_strobogrammatic(num):\n",
    "    valid_pairs = [(\"0\", \"0\"), (\"1\", \"1\"), (\"6\", \"9\"), (\"8\", \"8\"), (\"9\", \"6\")]\n",
    "    left, right = 0, len(num) - 1\n",
    "    \n",
    "    while left <= right:\n",
    "        if (num[left], num[right]) not in valid_pairs:\n",
    "            return False\n",
    "        \n",
    "        left += 1\n",
    "        right -= 1\n",
    "    \n",
    "    return True"
   ]
  },
  {
   "cell_type": "code",
   "execution_count": 4,
   "id": "070a09e1-a448-433f-8541-c2de5478d2b2",
   "metadata": {},
   "outputs": [
    {
     "name": "stdout",
     "output_type": "stream",
     "text": [
      "True\n"
     ]
    }
   ],
   "source": [
    "num = \"69\"\n",
    "print(is_strobogrammatic(num))"
   ]
  },
  {
   "cell_type": "markdown",
   "id": "6015e330-140c-47d3-92d4-5676aa480a14",
   "metadata": {},
   "source": [
    "Q3\n",
    "Given two non-negative integers, num1 and num2 represented as string, return the sum of num1 and num2 as a string.\n",
    "\n",
    "You must solve the problem without using any built-in library for handling large integers (such as BigInteger). You must also not convert the inputs to integers directly.\n",
    "\n",
    "Example 1:\n",
    "\n",
    "Input: num1 = \"11\", num2 = \"123\"\n",
    "\n",
    "Output:\n",
    "\n",
    "\"134\"\n",
    "\n",
    "Algo\n",
    "Initialize an empty string result to store the sum of num1 and num2.\n",
    "\n",
    "Initialize two pointers, i and j, to the rightmost positions of num1 and num2, respectively.\n",
    "\n",
    "Initialize a variable carry to 0, which represents the carry-over from the previous addition.\n",
    "\n",
    "While i is greater than or equal to 0 or j is greater than or equal to 0 or carry is not equal to 0, perform the following steps:\n",
    "\n",
    "a. Initialize variables x and y to 0, representing the current digits of num1 and num2, respectively. If i or j is within the valid index range, assign the corresponding digits to x and y.\n",
    "\n",
    "b. Compute the sum of x, y, and carry to get the current digit sum.\n",
    "\n",
    "c. Update carry as the integer division of the digit sum by 10.\n",
    "\n",
    "d. Append the remainder (digit sum modulo 10) to the front of result.\n",
    "\n",
    "e. Decrement i and j to move to the next position.\n",
    "\n",
    "Return the final result string."
   ]
  },
  {
   "cell_type": "code",
   "execution_count": 5,
   "id": "87308ca0-3aab-405c-b53a-bc0612cd5657",
   "metadata": {},
   "outputs": [],
   "source": [
    "def addStrings(num1, num2):\n",
    "    result = \"\"\n",
    "    i, j = len(num1) - 1, len(num2) - 1\n",
    "    carry = 0\n",
    "    \n",
    "    while i >= 0 or j >= 0 or carry != 0:\n",
    "        x = int(num1[i]) if i >= 0 else 0\n",
    "        y = int(num2[j]) if j >= 0 else 0\n",
    "        \n",
    "        digit_sum = x + y + carry\n",
    "        carry = digit_sum // 10\n",
    "        result = str(digit_sum % 10) + result\n",
    "        \n",
    "        i -= 1\n",
    "        j -= 1\n",
    "    \n",
    "    return result"
   ]
  },
  {
   "cell_type": "code",
   "execution_count": 6,
   "id": "cc132bec-799e-48a9-8e7e-cd4b0ecb227a",
   "metadata": {},
   "outputs": [
    {
     "name": "stdout",
     "output_type": "stream",
     "text": [
      "134\n"
     ]
    }
   ],
   "source": [
    "num1 = \"11\"\n",
    "num2 = \"123\"\n",
    "print(addStrings(num1, num2))"
   ]
  },
  {
   "cell_type": "markdown",
   "id": "b8ecbd72-0f67-416b-be24-d5a82151a649",
   "metadata": {},
   "source": [
    "Q4\n",
    "Given a string s, reverse the order of characters in each word within a sentence while still preserving whitespace and initial word order.\n",
    "\n",
    "Example 1:\n",
    "\n",
    "Input: s = \"Let's take LeetCode contest\"\n",
    "\n",
    "Output: \"s'teL ekat edoCteeL tsetnoc\"\n",
    "\n",
    "Algo\n",
    "Split the string s into a list of words based on whitespace. We can use the split() method to achieve this.\n",
    "\n",
    "Iterate through each word in the list of words.\n",
    "\n",
    "Reverse the characters of each word. We can use string slicing with a step of -1 ([::-1]) to reverse a word.\n",
    "\n",
    "Join the reversed words back into a single string using whitespace as the separator. We can use the join() method to achieve this.\n",
    "\n",
    "Return the final reversed string."
   ]
  },
  {
   "cell_type": "code",
   "execution_count": 9,
   "id": "35314bd5-c5eb-4438-ab95-2046903ccf44",
   "metadata": {},
   "outputs": [],
   "source": [
    "def reverseWords(s):\n",
    "    words = s.split()\n",
    "    reversed_words = [word[::-1] for word in words]\n",
    "    reversed_sentence = \" \".join(reversed_words)\n",
    "    return reversed_sentence"
   ]
  },
  {
   "cell_type": "code",
   "execution_count": 10,
   "id": "080519ed-6ee5-4ae6-954f-824be80db9a4",
   "metadata": {},
   "outputs": [
    {
     "name": "stdout",
     "output_type": "stream",
     "text": [
      "s'teL ekat edoCteeL tsetnoc\n"
     ]
    }
   ],
   "source": [
    "s = \"Let's take LeetCode contest\"\n",
    "print(reverseWords(s))"
   ]
  },
  {
   "cell_type": "markdown",
   "id": "1c7f4db0-a39b-4519-b221-0592153b66ec",
   "metadata": {},
   "source": [
    "Q5\n",
    "Given a string s and an integer k, reverse the first k characters for every 2k characters counting from the start of the string.\n",
    "\n",
    "If there are fewer than k characters left, reverse all of them. If there are less than 2k but greater than or equal to k characters, then reverse the first k characters and leave the other as original.\n",
    "\n",
    "Example 1:\n",
    "\n",
    "Input: s = \"abcdefg\", k = 2\n",
    "\n",
    "Output:\n",
    "\n",
    "\"bacdfeg\"\n",
    "\n",
    "Algo\n",
    "Convert the string s into a list of characters since strings in Python are immutable.\n",
    "\n",
    "Iterate through the characters in the list in steps of 2k.\n",
    "\n",
    "For each group of 2k characters, reverse the first k characters in-place. If there are fewer than k characters left, reverse all of them.\n",
    "\n",
    "Convert the modified list of characters back to a string and return it as the final result"
   ]
  },
  {
   "cell_type": "code",
   "execution_count": 13,
   "id": "39fbc693-d495-4202-8069-1ebc25f59caf",
   "metadata": {},
   "outputs": [],
   "source": [
    "def reverseStr(s, k):\n",
    "    chars = list(s)\n",
    "    n = len(chars)\n",
    "    \n",
    "    for i in range(0, n, 2 * k):\n",
    "        left = i\n",
    "        right = min(i + k - 1, n - 1)\n",
    "        \n",
    "        while left < right:\n",
    "            chars[left], chars[right] = chars[right], chars[left]\n",
    "            left += 1\n",
    "            right -= 1\n",
    "    \n",
    "    return ''.join(chars)"
   ]
  },
  {
   "cell_type": "code",
   "execution_count": 15,
   "id": "83062032-1b7d-4414-bee0-40f0afe0fbd3",
   "metadata": {},
   "outputs": [
    {
     "name": "stdout",
     "output_type": "stream",
     "text": [
      "bacdfeg\n"
     ]
    }
   ],
   "source": [
    "s = \"abcdefg\"\n",
    "k = 2\n",
    "print(reverseStr(s, k))\n"
   ]
  },
  {
   "cell_type": "markdown",
   "id": "1345ae24-2aa5-41d1-9edd-bd6adeefb1ff",
   "metadata": {},
   "source": [
    "Q6\n",
    "Given two strings s and goal, return true if and only if s can become goal after some number of shifts* on* s.\n",
    "\n",
    "A shift on s consists of moving the leftmost character of s to the rightmost position.\n",
    "\n",
    "For example, if s = \"abcde\", then it will be \"bcdea\" after one shift.\n",
    "Example 1:\n",
    "\n",
    "Input: s = \"abcde\", goal = \"cdeab\"\n",
    "\n",
    "Output:\n",
    "\n",
    "true\n",
    "\n",
    "Algo\n",
    "Check if the lengths of s and goal are equal. If they are not, return False since it is not possible for s to become goal through shifting.\n",
    "\n",
    "Concatenate s with itself to create a new string s_shifted. This allows us to handle circular shifts effectively.\n",
    "\n",
    "Check if goal is a substring of s_shifted. If it is, return True; otherwise, return False."
   ]
  },
  {
   "cell_type": "code",
   "execution_count": 18,
   "id": "f28fa13e-6ce9-4dae-9335-39a02e7fe4c6",
   "metadata": {},
   "outputs": [],
   "source": [
    "def canShift(s, goal):\n",
    "    if len(s) != len(goal):\n",
    "        return False\n",
    "    \n",
    "    s_shifted = s + s\n",
    "    return goal in s_shifted"
   ]
  },
  {
   "cell_type": "code",
   "execution_count": 19,
   "id": "163daa99-53a3-4e3f-9483-369d624424af",
   "metadata": {},
   "outputs": [
    {
     "name": "stdout",
     "output_type": "stream",
     "text": [
      "True\n"
     ]
    }
   ],
   "source": [
    "s = \"abcde\"\n",
    "goal = \"cdeab\"\n",
    "print(canShift(s, goal))"
   ]
  },
  {
   "cell_type": "markdown",
   "id": "0581a295-d215-49cc-84da-d2aebdc8562c",
   "metadata": {},
   "source": [
    "Q7\n",
    "Given two strings s and t, return true if they are equal when both are typed into empty text editors. '#' means a backspace character.\n",
    "\n",
    "Note that after backspacing an empty text, the text will continue empty.\n",
    "\n",
    "Example 1:\n",
    "\n",
    "Input: s = \"ab#c\", t = \"ad#c\"\n",
    "\n",
    "Output: true\n",
    "\n",
    "Explanation:\n",
    "\n",
    "Both s and t become \"ac\".\n",
    "\n",
    "Algo\n",
    "Create helper functions to process the strings and apply backspacing:\n",
    "\n",
    "process_string(s) - This function takes a string s as input and applies backspacing to it. It returns a new string with the backspaces processed.\n",
    "\n",
    "apply_backspace(s) - This function takes a string s as input and returns a new string with the backspaces removed.\n",
    "Apply backspacing to both strings s and t using the process_string helper function.\n",
    "Compare the processed strings to check if they are equal. Return True if they are equal; otherwise, return False."
   ]
  },
  {
   "cell_type": "code",
   "execution_count": 20,
   "id": "c1855678-2f5c-4f16-a3ee-5f20a1cec8f4",
   "metadata": {},
   "outputs": [],
   "source": [
    "def process_string(s):\n",
    "    stack = []\n",
    "    for char in s:\n",
    "        if char != '#':\n",
    "            stack.append(char)\n",
    "        elif stack:\n",
    "            stack.pop()\n",
    "    return ''.join(stack)\n",
    "\n",
    "def apply_backspace(s):\n",
    "    return process_string(s)\n",
    "\n",
    "def backspaceCompare(s, t):\n",
    "    processed_s = apply_backspace(s)\n",
    "    processed_t = apply_backspace(t)\n",
    "    return processed_s == processed_t"
   ]
  },
  {
   "cell_type": "code",
   "execution_count": 21,
   "id": "16882fff-fc1f-42c5-828c-8b64c1f6d35e",
   "metadata": {},
   "outputs": [
    {
     "name": "stdout",
     "output_type": "stream",
     "text": [
      "True\n"
     ]
    }
   ],
   "source": [
    "s = \"ab#c\"\n",
    "t = \"ad#c\"\n",
    "print(backspaceCompare(s, t))"
   ]
  },
  {
   "cell_type": "markdown",
   "id": "206835e2-a9ed-49da-871a-e68bfaee9e51",
   "metadata": {},
   "source": [
    "Question_8\n",
    "You are given an array coordinates, coordinates[i] = [x, y], where [x, y] represents the coordinate of a point. Check if these points make a straight line in the XY plane.\n",
    "\n",
    "Input: coordinates = [[1,2],[2,3],[3,4],[4,5],[5,6],[6,7]]\n",
    "\n",
    "Output: true\n",
    "\n",
    "Algo\n",
    "Check if the length of the coordinates array is less than or equal to 2. If it is, return True since any two points can form a straight line.\n",
    "\n",
    "Extract the x and y coordinates of the first two points from the coordinates array and store them in variables x1, y1, x2, and y2.\n",
    "\n",
    "Iterate through the remaining points in the coordinates array, starting from the third point (index 2) to the end.\n",
    "\n",
    "For each point at index i, extract its x and y coordinates and store them in variables xi and yi.\n",
    "\n",
    "Calculate the slope between the first two points (x1, y1) and (x2, y2) using the formula: slope = (yi - y1) / (xi - x1).\n",
    "\n",
    "Check if the slope between the current point and the first point (x1, y1) is different from the previously calculated slope. If it is different, return False since the points do not lie on a straight line.\n",
    "\n",
    "If the loop completes without returning False, it means that all slopes between consecutive points are equal, and the points form a straight line. Return True."
   ]
  },
  {
   "cell_type": "code",
   "execution_count": 22,
   "id": "beb878cd-4254-4343-ac67-2d2ec1c302ca",
   "metadata": {},
   "outputs": [],
   "source": [
    "def checkStraightLine(coordinates):\n",
    "    if len(coordinates) <= 2:\n",
    "        return True\n",
    "    \n",
    "    x1, y1 = coordinates[0]\n",
    "    x2, y2 = coordinates[1]\n",
    "    \n",
    "    for i in range(2, len(coordinates)):\n",
    "        xi, yi = coordinates[i]\n",
    "        if (yi - y1) * (x2 - x1) != (y2 - y1) * (xi - x1):\n",
    "            return False\n",
    "    \n",
    "    return True"
   ]
  },
  {
   "cell_type": "code",
   "execution_count": 23,
   "id": "adaeedb7-0663-4df7-b2ee-a00fec6bc1b9",
   "metadata": {},
   "outputs": [
    {
     "name": "stdout",
     "output_type": "stream",
     "text": [
      "True\n"
     ]
    }
   ],
   "source": [
    "coordinates = [[1,2],[2,3],[3,4],[4,5],[5,6],[6,7]]\n",
    "print(checkStraightLine(coordinates))"
   ]
  },
  {
   "cell_type": "code",
   "execution_count": null,
   "id": "a1900c5d-7191-413f-8571-0e736c3c6c9a",
   "metadata": {},
   "outputs": [],
   "source": []
  }
 ],
 "metadata": {
  "kernelspec": {
   "display_name": "Python 3 (ipykernel)",
   "language": "python",
   "name": "python3"
  },
  "language_info": {
   "codemirror_mode": {
    "name": "ipython",
    "version": 3
   },
   "file_extension": ".py",
   "mimetype": "text/x-python",
   "name": "python",
   "nbconvert_exporter": "python",
   "pygments_lexer": "ipython3",
   "version": "3.10.8"
  }
 },
 "nbformat": 4,
 "nbformat_minor": 5
}
