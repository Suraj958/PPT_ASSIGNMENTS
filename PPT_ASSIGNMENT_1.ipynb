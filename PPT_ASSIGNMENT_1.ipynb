{
 "cells": [
  {
   "cell_type": "markdown",
   "id": "27cb500f-a014-44be-b0e6-671cb8fc713b",
   "metadata": {},
   "source": [
    "Q1  Given an array of integers nums and an integer target, return indices of the two numbers such that they add up to target.\n",
    "\n",
    "You may assume that each input would have exactly one solution, and you may not use the same element twice.\n",
    "\n",
    "You can return the answer in any order.\n",
    "\n",
    "Algorithm:\n",
    "\n",
    "\n",
    "\n",
    "1-Initialize an empty dictionary to store the complement of each number and its index.\n",
    "\n",
    "2-Iterate through the array of numbers, starting from  first number. a. Calculate the complement of current number by\n",
    "subtracting it from target. b. Check if the complement exists in the dictionary. i. If  complement exists, return indices of the current number and its complement. ii. If the complement does not exist, continue to the next step. c. Add the current number and its index to the dictionary.\n",
    "\n",
    "3-If no solution is found, return an empty list.\n",
    "\n",
    "4-Time Complexity is O(n) where n is the length of the array\n",
    "\n",
    "5-Space Complexity is O(1)\n",
    "\n"
   ]
  },
  {
   "cell_type": "code",
   "execution_count": 25,
   "id": "57aaf333-fb7e-48ee-ac47-3f8943a19244",
   "metadata": {},
   "outputs": [
    {
     "name": "stdout",
     "output_type": "stream",
     "text": [
      "[0, 1]\n"
     ]
    }
   ],
   "source": [
    "def Sum_indice(nums, target):\n",
    "    complement_dict = {}\n",
    "    for i, num in enumerate(nums):\n",
    "        complement = target - num\n",
    "        if complement in complement_dict:\n",
    "            return [complement_dict[complement], i]\n",
    "        complement_dict[num] = i\n",
    "    return []\n",
    "nums = [2, 7, 11, 15]\n",
    "target = 9\n",
    "print(Sum_indice(nums, target)) "
   ]
  },
  {
   "cell_type": "markdown",
   "id": "560cbaba-79aa-47ba-a80c-217fc65abe89",
   "metadata": {},
   "source": [
    "\n",
    "Q2. Given an integer array nums and an integer val, remove all occurrences of val in nums in-place. The order of the elements may be changed. Then return the number of elements in nums which are not equal to val.\n",
    "\n",
    "Consider the number of elements in nums which are not equal to val be k, to get accepted, you need to do the following things:\n",
    "\n",
    " Change the array nums such that the first k elements of nums contain the elements which are not equal to val. The remaining  \n",
    " elements of nums are not important as well as the size of nums.\n",
    " Return k.\n",
    " \n",
    " 1-Initialize a variable k to 0 to keep track of the count of elements not equal to val.   \n",
    " \n",
    " 2-Iterate through the array nums.\n",
    " \n",
    " 3-If the current element is not equal to val, move it to the left side of the array by assigning it to nums[k], and increment   k  by 1.\n",
    " \n",
    " 4-After iterating through the entire array, the first k elements of nums will contain the elements that are not equal to val,   and the remaining elements are not important.\n",
    " \n",
    " 5- Return the value of k.\n"
   ]
  },
  {
   "cell_type": "code",
   "execution_count": 3,
   "id": "a0ebb58e-04ba-4f92-bde5-be2f8266f38e",
   "metadata": {},
   "outputs": [],
   "source": [
    "def remove_Elmnt(nums, val):\n",
    "    k = 0  \n",
    "\n",
    "    for i in range(len(nums)):\n",
    "        if nums[i] != val:\n",
    "            nums[k] = nums[i]\n",
    "            k += 1\n",
    "\n",
    "    for i in range(k, len(nums)):\n",
    "        nums[i] = '_'\n",
    "\n",
    "    return k"
   ]
  },
  {
   "cell_type": "code",
   "execution_count": 4,
   "id": "425213aa-6fd4-4fe8-9987-c7b82183df9d",
   "metadata": {},
   "outputs": [
    {
     "data": {
      "text/plain": [
       "2"
      ]
     },
     "execution_count": 4,
     "metadata": {},
     "output_type": "execute_result"
    }
   ],
   "source": [
    "remove_Elmnt([3,2,2,3],3)"
   ]
  },
  {
   "cell_type": "markdown",
   "id": "08aa924b-9b6c-4b72-99fb-18e403b645d7",
   "metadata": {},
   "source": [
    "Q3. Given a sorted array of distinct integers and a target value, return the index if the target is found. If not, return the index where it would be if it were inserted in order.\n",
    "\n",
    "You must write an algorithm with O(log n) runtime complexity.\n",
    "\n",
    "Algorithm-\n",
    "\n",
    "1. Initialize two pointers , left & right , representing the start and end of the search range in array\n",
    "\n",
    "2. While left is less than or equal to right a) calculate the middle index (left+right)//2 b) if the value at middle index is equal to the target, return the middle index c) if the value at the middle index is less than the target, update left to mid+1 to search the right half of the array d) if the value at the middle index is greater than the target, update right to mid-1 to search left half od the array\n",
    "\n",
    "3. if the target is not found in the array, return the value of left as the index where the target would be inserted\n",
    "Time Complexity: O(logn)"
   ]
  },
  {
   "cell_type": "code",
   "execution_count": 7,
   "id": "3f9d77e1-0cd2-4e53-a4e1-6ecbf2359100",
   "metadata": {},
   "outputs": [],
   "source": [
    "def search_Insert(nums,target):\n",
    "    left=0\n",
    "    right=len(nums)-1\n",
    "    while(left<=right):\n",
    "        mid=(left+right)//2\n",
    "        if nums[mid]==target:\n",
    "            return mid\n",
    "        elif nums[mid]<target:\n",
    "            left=mid+1\n",
    "        else:\n",
    "            right=mid-1\n",
    "    return left"
   ]
  },
  {
   "cell_type": "code",
   "execution_count": 9,
   "id": "a93047be-f630-4cfb-adf4-d76f63ba792f",
   "metadata": {},
   "outputs": [
    {
     "data": {
      "text/plain": [
       "2"
      ]
     },
     "execution_count": 9,
     "metadata": {},
     "output_type": "execute_result"
    }
   ],
   "source": [
    "search_Insert([1,3,5,6],5)"
   ]
  },
  {
   "cell_type": "markdown",
   "id": "d3e011cb-e445-4c37-9393-c186fabe4221",
   "metadata": {},
   "source": [
    "Q4. You are given a large integer represented as an integer array digits, where each digits[i] is the ith digit of the integer. The digits are ordered from most significant to least significant in left-to-right order. The large integer does not contain any leading 0's.\n",
    "\n",
    "Increment the large integer by one and return the resulting array of digits.\n",
    "\n",
    "Algorithm:\n",
    "1. Initialize a variable carry to 1, representing initial carry value \n",
    "\n",
    "2. Itirate over the digits in reverse order, starting from the least significant digit. a) add the carry to the current digit\n",
    "b) update the carry by dividing the sum by 10. c) update the current digit to the remainder of the sum divided by 10.\n",
    "\n",
    "3. after the loop, if there is still a non-zero carry, insert it at the beginning of the array. \n",
    "\n",
    "4. return the updated array of digits. Time Complexity: O(n)"
   ]
  },
  {
   "cell_type": "code",
   "execution_count": 10,
   "id": "327f9c2c-3138-4d2d-ac89-4328e4524681",
   "metadata": {},
   "outputs": [],
   "source": [
    "def plus_One(digits):\n",
    "    n=len(digits)\n",
    "    carry=1\n",
    "    for i in range(n-1,-1,-1):\n",
    "        digits[i]+=carry\n",
    "        carry=digits[i]//10\n",
    "        digits[i]%=10\n",
    "    if carry:\n",
    "        digits.insert(0,carry)\n",
    "    return digits"
   ]
  },
  {
   "cell_type": "code",
   "execution_count": 11,
   "id": "fee1bb28-8b07-4f66-888b-2d3c72cafe49",
   "metadata": {},
   "outputs": [
    {
     "name": "stdout",
     "output_type": "stream",
     "text": [
      "[1, 2, 4]\n"
     ]
    }
   ],
   "source": [
    "digits=[1,2,3]\n",
    "result=plus_One(digits)\n",
    "print(result)"
   ]
  },
  {
   "cell_type": "markdown",
   "id": "b2312d3a-f551-4365-9d97-b33f76f28161",
   "metadata": {},
   "source": [
    "\n",
    "Q5. You are given two integer arrays nums1 and nums2, sorted in non-decreasing order, and two integers m and n, representing the number of elements in nums1 and nums2 respectively.\n",
    "\n",
    "Merge nums1 and nums2 into a single array sorted in non-decreasing order.\n",
    "\n",
    "The final sorted array should not be returned by the function, but instead be stored inside the array nums1. To accommodate this, nums1 has a length of m + n, where the first m elements denote the elements that should be merged, and the last n elements are set to 0 and should be ignored. nums2 has a length of n.\n",
    "\n",
    "\n",
    "Algorithm: 1.initialize 3 pointers p1- for num1, p2- for num2, p- for merged array. set p1- to m-1(index of the last element in num1) set p1- to n-1(index of the last element in num2) set p- to m+n-1(index of the last element in the merged array) 2. compare the elements num1[p1] and num2[p2] and place the largest element at nums1[p]. Decrement the corresponding pointer p by 1. 3. repeat setp 2 until either p1 or p2 becoms less than 0 4. if there are remaining elements in nums2 after the above comparison, copy them to the beginning of the nums1,upto the index of p2+1\n",
    "\n",
    "Time Complexity: O(m+n)\n"
   ]
  },
  {
   "cell_type": "code",
   "execution_count": 13,
   "id": "aaa9de78-c61c-48e2-9f33-0ccc5a507d24",
   "metadata": {},
   "outputs": [],
   "source": [
    "def mrg(nums1,m,nums2,n):\n",
    "    \n",
    "    p1=m-1\n",
    "    p2=n-1\n",
    "    p=m+n-1\n",
    "    \n",
    "    while p1>=0 and p2>=0:\n",
    "        if nums1[p1]>nums2[p2]:\n",
    "            nums1[p]=nums1[p1]\n",
    "            p1-=1\n",
    "        else:\n",
    "            nums1[p]=nums2[p2]\n",
    "            p2-=1\n",
    "        p-=1\n",
    "                \n",
    "    nums1[:p2+1]=nums2[:p2+1]"
   ]
  },
  {
   "cell_type": "code",
   "execution_count": 14,
   "id": "0ed3e1b7-a7dd-48ca-b357-c1f8f62b23c0",
   "metadata": {},
   "outputs": [
    {
     "name": "stdout",
     "output_type": "stream",
     "text": [
      "[1, 2, 2, 3, 5, 6]\n"
     ]
    }
   ],
   "source": [
    "nums1=[1,2,3,0,0,0]\n",
    "m=3\n",
    "nums2=[2,5,6]\n",
    "n=3\n",
    "mrg(nums1,m,nums2,n)\n",
    "print(nums1)"
   ]
  },
  {
   "cell_type": "markdown",
   "id": "288d5f94-3302-4291-aa13-863ead89cb1f",
   "metadata": {},
   "source": [
    "Q6. Given an integer array nums, return true if any value appears at least twice in the array, and return false if every element is distinct.\n",
    "\n",
    "Algorithm: 1. Initialize an empty hash set called seen to store the unique elements 2. iterate through the elements in the array nums 3. for each element in num, check if it is already present in the seen set a) if it is return True, as we have found duplicate element b) if it is not, add the elements to the seen set. 4. if the loop completes without finding any duplicate, return False Time Complexity: O(n)- since it iterate through the array once"
   ]
  },
  {
   "cell_type": "code",
   "execution_count": 15,
   "id": "7e56f0ef-7f65-4cf2-8387-2d5a09811bb0",
   "metadata": {},
   "outputs": [],
   "source": [
    "def contains_Duplicate(nums):\n",
    "    seen=set()\n",
    "    for num in nums:\n",
    "        if num in seen:\n",
    "            return True\n",
    "        seen.add(num)\n",
    "    return False"
   ]
  },
  {
   "cell_type": "code",
   "execution_count": 16,
   "id": "c993c5d1-0d74-4b7a-8f0a-7ae1921d4905",
   "metadata": {},
   "outputs": [
    {
     "data": {
      "text/plain": [
       "True"
      ]
     },
     "execution_count": 16,
     "metadata": {},
     "output_type": "execute_result"
    }
   ],
   "source": [
    "contains_Duplicate([1,2,3,1])"
   ]
  },
  {
   "cell_type": "code",
   "execution_count": 18,
   "id": "798f5c86-1357-440a-849b-b09a31e969b4",
   "metadata": {},
   "outputs": [
    {
     "data": {
      "text/plain": [
       "False"
      ]
     },
     "execution_count": 18,
     "metadata": {},
     "output_type": "execute_result"
    }
   ],
   "source": [
    "contains_Duplicate([1,2,3,4])"
   ]
  },
  {
   "cell_type": "markdown",
   "id": "5288028c-1de9-4325-a545-52a8d0f1183d",
   "metadata": {},
   "source": [
    "Q7. Given an integer array nums, move all 0's to the end of it while maintaining the relative order of the nonzero elements.\n",
    "\n",
    "Algorithm: 1. initialize a pointer left to keep track of the index where the next non-zero element should be replace 2. iterate through array nums 3. if the current element is non zero, place it at the left index and increment left by 1. 4. after loop, all non-zero elements have been moved to left side of the array, and the left pointer points to the index where the next zero element should be replace. 5. iterate from left to the end of the array and set all elements to zero.\n",
    "\n",
    "Time complexity: O(n)"
   ]
  },
  {
   "cell_type": "code",
   "execution_count": 20,
   "id": "e8b82fb7-10fd-4302-ad99-ae31e59a7762",
   "metadata": {},
   "outputs": [],
   "source": [
    "def move_Zero(nums):\n",
    "    left=0 \n",
    "\n",
    "    \n",
    "    for i in range(len(nums)):\n",
    "        if nums[i]!=0:\n",
    "            nums[left]=nums[i]\n",
    "            left+=1\n",
    "    \n",
    "    for i in range(left,len(nums)):\n",
    "        nums[i]=0"
   ]
  },
  {
   "cell_type": "code",
   "execution_count": 21,
   "id": "66ce93ff-3e50-4cfd-8a12-1e630bef1e03",
   "metadata": {},
   "outputs": [
    {
     "name": "stdout",
     "output_type": "stream",
     "text": [
      "[1, 3, 12, 0, 0, 0]\n"
     ]
    }
   ],
   "source": [
    "nums=[0,1,0,3,12,0]\n",
    "move_Zero(nums)\n",
    "print(nums)"
   ]
  },
  {
   "cell_type": "markdown",
   "id": "d361afa2-7c88-44ff-bfb4-3d0cadfe0417",
   "metadata": {},
   "source": [
    "\n",
    "Q8.You have a set of integers s, which originally contains all the numbers from 1 to n. Unfortunately, due to some error, one of the numbers in s got duplicated to another number in the set, which results in repetition of one number and loss of another number.\n",
    "\n",
    "You are given an integer array nums representing the data status of this set after the error.\n",
    "\n",
    "Find the number that occurs twice and the number that is missing and return them in the form of an array\n",
    "\n",
    "\n",
    "Algorithm: 1. Calculate the XOR of all elements in nums and numbers from 1 to n. This will give us the XOR of the missing number and the duplicate number. 2. Find the rightmost set bit in the XOR result. 3. Separate the numbers in nums into two groups based on whether their corresponding bit at the rightmost set bit position is set or not. 4. Separate the numbers from 1 to n into two groups based on the same criteria.\n",
    "\n",
    "5. XOR the numbers in each group separately to find the missing number and the duplicate number.\n",
    "\n",
    "6.Check if the missing number or the duplicate number is present in nums.\n",
    "\n",
    "7.Return the result as an array [duplicate_num, missing_num].\n",
    "Time Complexity: O(n)"
   ]
  },
  {
   "cell_type": "code",
   "execution_count": 22,
   "id": "3147300b-27fd-4b4a-a027-30031d80530d",
   "metadata": {},
   "outputs": [],
   "source": [
    "def find_Errors_Num(nums):\n",
    "    xor = 0\n",
    "    n = len(nums)\n",
    "\n",
    "    for i in range(1, n + 1):\n",
    "        xor ^= i\n",
    "    for num in nums:\n",
    "        xor ^= num\n",
    "\n",
    "    rightmost_set_bit = xor & (-xor)\n",
    "\n",
    "    missing_num = 0\n",
    "    duplicate_num = 0\n",
    "\n",
    "    for i in range(n):\n",
    "        if nums[i] & rightmost_set_bit:\n",
    "            missing_num ^= nums[i]\n",
    "        else:\n",
    "            duplicate_num ^= nums[i]\n",
    "\n",
    "    for i in range(1, n + 1):\n",
    "        if i & rightmost_set_bit:\n",
    "            missing_num ^= i\n",
    "        else:\n",
    "            duplicate_num ^= i\n",
    "\n",
    "    for num in nums:\n",
    "        if num == missing_num:\n",
    "            return [missing_num, duplicate_num]\n",
    "        if num == duplicate_num:\n",
    "            return [duplicate_num, missing_num]\n",
    "\n",
    "    return []  "
   ]
  },
  {
   "cell_type": "code",
   "execution_count": 23,
   "id": "72f4a782-fc03-4c6a-8b27-3616600d0fea",
   "metadata": {},
   "outputs": [
    {
     "name": "stdout",
     "output_type": "stream",
     "text": [
      "[2, 3]\n"
     ]
    }
   ],
   "source": [
    "nums = [1, 2, 2, 4]\n",
    "result = find_Errors_Num(nums)\n",
    "print(result)  "
   ]
  },
  {
   "cell_type": "code",
   "execution_count": null,
   "id": "1d636b39-9c47-4150-a3de-85b7978b1a59",
   "metadata": {},
   "outputs": [],
   "source": []
  }
 ],
 "metadata": {
  "kernelspec": {
   "display_name": "Python 3 (ipykernel)",
   "language": "python",
   "name": "python3"
  },
  "language_info": {
   "codemirror_mode": {
    "name": "ipython",
    "version": 3
   },
   "file_extension": ".py",
   "mimetype": "text/x-python",
   "name": "python",
   "nbconvert_exporter": "python",
   "pygments_lexer": "ipython3",
   "version": "3.10.8"
  }
 },
 "nbformat": 4,
 "nbformat_minor": 5
}
