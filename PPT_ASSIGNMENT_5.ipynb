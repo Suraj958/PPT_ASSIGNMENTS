{
 "cells": [
  {
   "cell_type": "markdown",
   "id": "faec654c-3ac0-45b9-a7c2-9f6683ad0044",
   "metadata": {},
   "source": [
    "Q1 Convert 1D Array Into 2D Array\n",
    "\n",
    "You are given a **0-indexed** 1-dimensional (1D) integer array original, and two integers, m and n. You are tasked with creating a 2-dimensional (2D) array with  m rows and n columns using **all** the elements from original.\n",
    "\n",
    "The elements from indices 0 to n - 1 (**inclusive**) of original should form the first row of the constructed 2D array, the elements from indices n to 2 * n - 1 (**inclusive**) should form the second row of the constructed 2D array, and so on.\n",
    "\n",
    "Return *an* m x n *2D array constructed according to the above procedure, or an empty 2D array if it is impossible*."
   ]
  },
  {
   "cell_type": "code",
   "execution_count": 1,
   "id": "f9d98c12-c44a-4976-ba63-65d0e0ca7142",
   "metadata": {},
   "outputs": [],
   "source": [
    "def convert(original, m, n):\n",
    "    if len(original) != m * n:\n",
    "        raise ValueError(\"The dimensions of the original array do not match the specified 2D array dimensions.\")\n",
    "    \n",
    "    result = []\n",
    "    for i in range(m):\n",
    "        row = original[i * n : (i + 1) * n]\n",
    "        result.append(row)\n",
    "    \n",
    "    return result"
   ]
  },
  {
   "cell_type": "code",
   "execution_count": 3,
   "id": "315759b7-8ef2-407a-a782-2b41e637412f",
   "metadata": {},
   "outputs": [
    {
     "name": "stdout",
     "output_type": "stream",
     "text": [
      "[[1, 2], [3, 4]]\n"
     ]
    }
   ],
   "source": [
    "original = [1, 2, 3, 4, ]\n",
    "m = 2\n",
    "n = 2\n",
    "\n",
    "result = convert(original, m, n)\n",
    "print(result)"
   ]
  },
  {
   "cell_type": "markdown",
   "id": "cbaf43b4-27ba-4fb3-8a07-d25bd8129f20",
   "metadata": {},
   "source": [
    "Q2 You have n coins and you want to build a staircase with these coins. The staircase consists of k rows where the ith row has exactly i coins. The last row of the staircase **may be** incomplete.\n",
    "\n",
    "Given the integer n, return *the number of **complete rows** of the staircase you will build*."
   ]
  },
  {
   "cell_type": "code",
   "execution_count": 6,
   "id": "933089cf-7df0-4bc2-9a28-b0a55100b6e2",
   "metadata": {},
   "outputs": [
    {
     "name": "stdout",
     "output_type": "stream",
     "text": [
      "2\n"
     ]
    }
   ],
   "source": [
    "def Coins(n):\n",
    "    k = int((2 * n) ** 0.5)  \n",
    "    if k * (k + 1) / 2 > n:\n",
    "        return k - 1 \n",
    "    return k  \n",
    "\n",
    "print(Coins(5))"
   ]
  },
  {
   "cell_type": "markdown",
   "id": "4cfbc77e-97f7-4324-938c-a978b9539120",
   "metadata": {},
   "source": [
    "Q3 Given an integer array nums sorted in non-decreasing order, return an array of the squares of each number sorted in non-decreasing order."
   ]
  },
  {
   "cell_type": "code",
   "execution_count": 7,
   "id": "411c8911-844d-4067-aa76-d20290827907",
   "metadata": {},
   "outputs": [
    {
     "name": "stdout",
     "output_type": "stream",
     "text": [
      "[0, 1, 9, 16, 100]\n"
     ]
    }
   ],
   "source": [
    "def sortedSquares(nums):\n",
    "    n = len(nums)\n",
    "    result = [0] * n\n",
    "    left = 0\n",
    "    right = n - 1\n",
    "    index = n - 1\n",
    "    \n",
    "    while left <= right:\n",
    "        left_square = nums[left] ** 2\n",
    "        right_square = nums[right] ** 2\n",
    "        \n",
    "        if left_square > right_square:\n",
    "            result[index] = left_square\n",
    "            left += 1\n",
    "        else:\n",
    "            result[index] = right_square\n",
    "            right -= 1\n",
    "        \n",
    "        index -= 1\n",
    "    \n",
    "    return result\n",
    "\n",
    "nums = [-4, -1, 0, 3, 10]\n",
    "result = sortedSquares(nums)\n",
    "print(result)"
   ]
  },
  {
   "cell_type": "markdown",
   "id": "e94b1e76-436d-40e3-97f5-767a48ba9b05",
   "metadata": {},
   "source": [
    "Q4 Given two **0-indexed** integer arrays nums1 and nums2, return *a list* answer *of size* 2 *where:*\n",
    "\n",
    "- answer[0] *is a list of all **distinct** integers in* nums1 *which are **not** present in* nums2*.*\n",
    "- answer[1] *is a list of all **distinct** integers in* nums2 *which are **not** present in* nums1.\n",
    "\n",
    "**Note** that the integers in the lists may be returned in **any** order."
   ]
  },
  {
   "cell_type": "code",
   "execution_count": 8,
   "id": "747ac65e-273e-4b10-9624-b87bc37283a5",
   "metadata": {},
   "outputs": [
    {
     "name": "stdout",
     "output_type": "stream",
     "text": [
      "[[1, 3], [4, 6]]\n"
     ]
    }
   ],
   "source": [
    "def distinctArrays(nums1, nums2):\n",
    "    set1 = set(nums1)\n",
    "    set2 = set(nums2)\n",
    "    \n",
    "    distinct_nums1 = list(set1 - set2)\n",
    "    distinct_nums2 = list(set2 - set1)\n",
    "    \n",
    "    return [distinct_nums1, distinct_nums2]\n",
    "nums1 = [1, 2, 3]\n",
    "nums2 = [2, 4, 6]\n",
    "result = distinctArrays(nums1, nums2)\n",
    "print(result)"
   ]
  },
  {
   "cell_type": "markdown",
   "id": "554f6d87-dcd6-4bec-8b44-4e14dfa81d54",
   "metadata": {},
   "source": [
    "Q5 Given two integer arrays arr1 and arr2, and the integer d, *return the distance value between the two arrays*.\n",
    "\n",
    "The distance value is defined as the number of elements arr1[i] such that there is not any element arr2[j] where |arr1[i]-arr2[j]| <= d."
   ]
  },
  {
   "cell_type": "code",
   "execution_count": 9,
   "id": "7419677b-b21e-424b-a7da-409c3890a322",
   "metadata": {},
   "outputs": [
    {
     "name": "stdout",
     "output_type": "stream",
     "text": [
      "2\n"
     ]
    }
   ],
   "source": [
    "def distanceValue(arr1, arr2, d):\n",
    "    distance = 0\n",
    "    \n",
    "    for num1 in arr1:\n",
    "        found = False\n",
    "        for num2 in arr2:\n",
    "            if abs(num1 - num2) <= d:\n",
    "                found = True\n",
    "                break\n",
    "        if not found:\n",
    "            distance += 1\n",
    "    \n",
    "    return distance\n",
    "arr1 = [4, 5, 8]\n",
    "arr2 = [10, 9, 1, 8]\n",
    "d = 2\n",
    "result = distanceValue(arr1, arr2, d)\n",
    "print(result)"
   ]
  },
  {
   "cell_type": "markdown",
   "id": "49c8a8d1-9b8c-4d5f-9848-74ba630049fa",
   "metadata": {},
   "source": [
    "Q6 Given an integer array nums of length n where all the integers of nums are in the range [1, n] and each integer appears once or twice, return an array of all the integers that appears twice**.\n",
    "\n",
    "You must write an algorithm that runs in O(n) time and uses only constant extra space."
   ]
  },
  {
   "cell_type": "code",
   "execution_count": 11,
   "id": "21527fb6-cc0c-4e1a-bdbc-448a08b8ec28",
   "metadata": {},
   "outputs": [],
   "source": [
    "def Duplicate(nums):\n",
    "    result = []\n",
    "    \n",
    "    for num in nums:\n",
    "        index = abs(num) - 1\n",
    "        if nums[index] < 0:\n",
    "            result.append(abs(num))\n",
    "        else:\n",
    "            nums[index] *= -1\n",
    "    \n",
    "    return result"
   ]
  },
  {
   "cell_type": "code",
   "execution_count": 12,
   "id": "63db3eff-e58b-423b-a312-9438673c7fc3",
   "metadata": {},
   "outputs": [
    {
     "name": "stdout",
     "output_type": "stream",
     "text": [
      "[2, 3]\n"
     ]
    }
   ],
   "source": [
    "nums = [4, 3, 2, 7, 8, 2, 3, 1]\n",
    "result = Duplicate(nums)\n",
    "print(result)"
   ]
  },
  {
   "cell_type": "markdown",
   "id": "96dbbcd1-fecc-48ae-8611-f019f87c27cc",
   "metadata": {},
   "source": [
    "Q7 Suppose an array of length n sorted in ascending order is **rotated** between 1 and n times. For example, the array nums = [0,1,2,4,5,6,7] might become:\n",
    "\n",
    "- [4,5,6,7,0,1,2] if it was rotated 4 times.\n",
    "- [0,1,2,4,5,6,7] if it was rotated 7 times.\n",
    "\n",
    "Notice that **rotating** an array [a[0], a[1], a[2], ..., a[n-1]] 1 time results in the array [a[n-1], a[0], a[1], a[2], ..., a[n-2]].\n",
    "\n",
    "Given the sorted rotated array nums of **unique** elements, return *the minimum element of this array*.\n",
    "\n",
    "You must write an algorithm that runs in O(log n) time.\n",
    "\n",
    "**Example 1:**"
   ]
  },
  {
   "cell_type": "code",
   "execution_count": 13,
   "id": "29fcf54e-d0dc-47ec-bec7-f8edceaf5b36",
   "metadata": {},
   "outputs": [
    {
     "name": "stdout",
     "output_type": "stream",
     "text": [
      "1\n"
     ]
    }
   ],
   "source": [
    "def min(nums):\n",
    "    n = len(nums)\n",
    "    left = 0\n",
    "    right = n - 1\n",
    "    \n",
    "    while left < right:\n",
    "        mid = left + (right - left) // 2\n",
    "        \n",
    "        if nums[mid] > nums[right]:\n",
    "            left = mid + 1\n",
    "        else:\n",
    "            right = mid\n",
    "    \n",
    "    return nums[left]\n",
    "\n",
    "nums = [3, 4, 5, 1, 2]\n",
    "result = min(nums)\n",
    "print(result)"
   ]
  },
  {
   "cell_type": "markdown",
   "id": "d8d24c52-46df-4125-9923-343f26969651",
   "metadata": {},
   "source": [
    "Q8 An integer array original is transformed into a **doubled** array changed by appending **twice the value** of every element in original, and then randomly **shuffling** the resulting array.\n",
    "\n",
    "Given an array changed, return original *if* changed *is a **doubled** array. If* changed *is not a **doubled** array, return an empty array. The elements in* original *may be returned in **any** order*."
   ]
  },
  {
   "cell_type": "code",
   "execution_count": 14,
   "id": "3cc6100b-5c4c-4141-958e-27b14f6ee2ca",
   "metadata": {},
   "outputs": [
    {
     "name": "stdout",
     "output_type": "stream",
     "text": [
      "[1, 3, 4]\n"
     ]
    }
   ],
   "source": [
    "from collections import defaultdict\n",
    "\n",
    "def OriginalArray(changed):\n",
    "    if len(changed) % 2 != 0:\n",
    "        return []\n",
    "    \n",
    "    count = defaultdict(int)\n",
    "    for num in changed:\n",
    "        count[num] += 1\n",
    "    \n",
    "    original = []\n",
    "    for num in sorted(count.keys()):\n",
    "        if count[num] == 0:\n",
    "            continue\n",
    "        if count[num] > count[num * 2]:\n",
    "            return []\n",
    "        for _ in range(count[num]):\n",
    "            original.append(num)\n",
    "            count[num] -= 1\n",
    "            count[num * 2] -= 1\n",
    "    \n",
    "    return original\n",
    "changed = [1, 3, 4, 2, 6, 8]\n",
    "result = OriginalArray(changed)\n",
    "print(result)"
   ]
  },
  {
   "cell_type": "code",
   "execution_count": null,
   "id": "ed6fbc58-5d90-4d8c-ae46-ae18906d6b6a",
   "metadata": {},
   "outputs": [],
   "source": []
  }
 ],
 "metadata": {
  "kernelspec": {
   "display_name": "Python 3 (ipykernel)",
   "language": "python",
   "name": "python3"
  },
  "language_info": {
   "codemirror_mode": {
    "name": "ipython",
    "version": 3
   },
   "file_extension": ".py",
   "mimetype": "text/x-python",
   "name": "python",
   "nbconvert_exporter": "python",
   "pygments_lexer": "ipython3",
   "version": "3.10.8"
  }
 },
 "nbformat": 4,
 "nbformat_minor": 5
}
