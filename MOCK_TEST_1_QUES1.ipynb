{
 "cells": [
  {
   "cell_type": "markdown",
   "id": "cbce8012-928a-44e2-957a-87708280b7c3",
   "metadata": {},
   "source": [
    "Move Zeroes\n",
    "Given an integer array nums, move all 0's to the end of it while maintaining the relative order of the non-zero elements."
   ]
  },
  {
   "cell_type": "code",
   "execution_count": 9,
   "id": "8051aa4c-c4e4-4679-a5aa-ce0d88545ed3",
   "metadata": {},
   "outputs": [],
   "source": [
    "def zero(num):\n",
    "    i = 0\n",
    "    j = 0\n",
    "    while i < len(num):\n",
    "        if num[i] != 0:\n",
    "            num[j] = num[i]\n",
    "            j += 1\n",
    "        i += 1\n",
    "\n",
    "    while j < len(num):\n",
    "        num[j] = 0\n",
    "        j += 1\n",
    "\n",
    "    return num"
   ]
  },
  {
   "cell_type": "code",
   "execution_count": 12,
   "id": "6143e60b-40b7-4f61-bce4-88d3ce013785",
   "metadata": {},
   "outputs": [
    {
     "name": "stdout",
     "output_type": "stream",
     "text": [
      "EXAMPLE 1:\n",
      "Input: nums = [0,1,0,3,12]\n",
      "Output:  [1, 3, 12, 0, 0]\n"
     ]
    }
   ],
   "source": [
    "print(\"EXAMPLE 1:\")\n",
    "print(\"Input: nums = [0,1,0,3,12]\")\n",
    "num = [0,1,0,3,12]\n",
    "print(\"Output: \", zero(num))"
   ]
  },
  {
   "cell_type": "code",
   "execution_count": 13,
   "id": "ff975bef-68b6-40ee-b298-d2ec7f1fdcd1",
   "metadata": {},
   "outputs": [
    {
     "name": "stdout",
     "output_type": "stream",
     "text": [
      "Example 2:\n",
      "Input: nums = [0]\n",
      "Output:  [0]\n"
     ]
    }
   ],
   "source": [
    "print(\"Example 2:\")\n",
    "print(\"Input: nums = [0]\")\n",
    "num = [0]\n",
    "print(\"Output: \", zero(num))"
   ]
  },
  {
   "cell_type": "code",
   "execution_count": null,
   "id": "f6a410be-6cc7-477a-b23a-c91c40700e96",
   "metadata": {},
   "outputs": [],
   "source": []
  }
 ],
 "metadata": {
  "kernelspec": {
   "display_name": "Python 3 (ipykernel)",
   "language": "python",
   "name": "python3"
  },
  "language_info": {
   "codemirror_mode": {
    "name": "ipython",
    "version": 3
   },
   "file_extension": ".py",
   "mimetype": "text/x-python",
   "name": "python",
   "nbconvert_exporter": "python",
   "pygments_lexer": "ipython3",
   "version": "3.10.8"
  }
 },
 "nbformat": 4,
 "nbformat_minor": 5
}
